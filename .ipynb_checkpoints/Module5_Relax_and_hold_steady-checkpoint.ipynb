{
 "cells": [
  {
   "cell_type": "markdown",
   "metadata": {},
   "source": [
    "# Coding Assignment : Relax and hold steady "
   ]
  },
  {
   "cell_type": "markdown",
   "metadata": {},
   "source": [
    "<p style=\"text-align:right\";>\n",
    "**Arnaud RUEFF - Antonin URRUTY**\n",
    "</p>"
   ]
  },
  {
   "cell_type": "markdown",
   "metadata": {},
   "source": [
    "<p style=\"text-align:right\";>\n",
    "*À rendre pour le 2 Mai 2016*\n",
    "</p>\n"
   ]
  },
  {
   "cell_type": "markdown",
   "metadata": {},
   "source": [
    "## What do we need to solve ?"
   ]
  },
  {
   "cell_type": "markdown",
   "metadata": {},
   "source": [
    "Our mission is to solve the stokes flow in a square cavity using the vorticity streamfunction formulation. Stokes flow refers to flow that are dominated by viscous force and not by advective/convective force. In order solve a stokes flow problem, the fluid needs to have a very small Reynolds number (very slow and viscous flow). \n",
    "\n",
    "Gladly, the stokes flow assumption will simplify the resolution of the Navier-Stokes equation, as it eliminates the non-linearity of it ! Thus , if we start with the Navier-Stokes equation for incompressible flows : \n",
    "$$\\frac{\\partial u}{\\partial t}+u.\\nabla u = -\\frac{1}{\\rho}\\nabla p + \\nu \\nabla^2 u $$\n"
   ]
  },
  {
   "cell_type": "markdown",
   "metadata": {},
   "source": [
    "We can show (as shown in the presentation of this assignement) that we need to solve these two coupled equations :\n",
    "\n",
    "\\begin{equation}  \n",
    "\\nabla^2 \\omega = 0\n",
    "\\end{equation}\n",
    "\n",
    "\\begin{equation}\n",
    "\\nabla^2 \\psi = -\\omega\n",
    "\\end{equation}\n",
    "\n",
    "We recognise here the first equation as a Laplace equation, and the second one as a Poisson equation.\n",
    "\n",
    "\n"
   ]
  },
  {
   "cell_type": "markdown",
   "metadata": {},
   "source": [
    "\n",
    "* ### How can we solve these coupled equations ? \n",
    "\n",
    "We will use the quite simple and efficient 2D Jacobi iterations.\n",
    "In two dimensions, the equations look like this :\n",
    "\n",
    "\\begin{equation}\n",
    "\\frac{\\partial ^2 \\omega}{\\partial x^2} + \\frac{\\partial ^2 \\omega}{\\partial y^2} = 0\n",
    "\\end{equation}\n",
    "\n",
    "\\begin{equation}\n",
    "\\frac{\\partial ^2 \\psi}{\\partial x^2} + \\frac{\\partial ^2 \\psi}{\\partial y^2} = -\\omega\n",
    "\\end{equation}\n",
    "\n",
    "Thus, using Jacobi iterations, we learned in the lessons 1 and 2 from this module that the solutions of theses equations are : "
   ]
  },
  {
   "cell_type": "markdown",
   "metadata": {},
   "source": [
    "\\begin{equation}\n",
    "\\omega^{k+1}_{i,j} = \\frac{1}{4} \\left(\\omega^{k}_{i,j-1} + \\omega^k_{i,j+1} + \\omega^{k}_{i-1,j} + \\omega^k_{i+1,j} \\right)\n",
    "\\end{equation}"
   ]
  },
  {
   "cell_type": "markdown",
   "metadata": {},
   "source": [
    "\\begin{equation}\n",
    "\\psi_{i,j}^{k+1}=\\frac{(\\psi_{i+1,j}^{k}+\\psi_{i-1,j}^{k})\\Delta y^2+(\\psi_{i,j+1}^{k}+\\psi_{i,j-1}^{k})\\Delta x^2-\\omega_{i,j}^{k}\\Delta x^2\\Delta y^2}{2(\\Delta x^2+\\Delta y^2)}\n",
    "\\end{equation}"
   ]
  },
  {
   "cell_type": "markdown",
   "metadata": {},
   "source": [
    "Which, following the exemples of lessons 2 and 3, looks in Pyhton like :\n",
    "\n",
    "           w[1:-1,1:-1] = .25 x (wk[1:-1,2:] + wk[1:-1, :-2] + wk[2:, 1:-1] + wk[:-2, 1:-1])  \n",
    "   for the Laplace equation, and\n",
    "   \n",
    "           p[1:-1,1:-1] = 1/(2*(dx**2 + dy**2)) * (  (pk[1:-1,2:]+pk[1:-1,:-2])*dy**2 +\\\n",
    "                                                     (pk[2:,1:-1] + pk[:-2,1:-1])*dx**2 -\\\n",
    "                                                                    w[1:-1,1:-1]*dx**2*dy**2  )\n",
    "                         \n",
    "   for the Poisson equation.\n",
    "   \n",
    "   *Note that we used the convention used in the previous assignments, with the y coordinates corresponding to the rows of the array and x coordinates on the columns, in order to result on 2D-array values with a natural ordering.*"
   ]
  },
  {
   "cell_type": "markdown",
   "metadata": {},
   "source": [
    "* ### Boundary conditions"
   ]
  },
  {
   "cell_type": "markdown",
   "metadata": {},
   "source": [
    "We have for the top boundary ( x, y = max ) :"
   ]
  },
  {
   "cell_type": "markdown",
   "metadata": {},
   "source": [
    "\\begin{equation}\n",
    "\\omega_{i,j} = -\\frac{1}{2 \\Delta y^2} (8\\psi_{i, j-1} - \\psi_{i, j-2}) - \\frac{3u_j}{\\Delta y} + \\mathcal{O}(\\Delta y^2)\n",
    "\\end{equation}"
   ]
  },
  {
   "cell_type": "markdown",
   "metadata": {},
   "source": [
    "Note that in our case ***u = 1***, moreover we will neglect the $\\mathcal{O}(\\Delta y^2)$ part."
   ]
  },
  {
   "cell_type": "markdown",
   "metadata": {},
   "source": [
    "Using the same reasoning than in the notebook explaining how to get the initial condition, we can get the three others.\n",
    "Let's make an example for the bottom boundary condition (x,y=0). By doing a 2nd order discretisation of the poisson equation\n",
    "\n",
    "$$\\omega_j=\\left(\\frac{\\psi_{j+1}-2\\psi_j + \\psi_{j-1}}{\\Delta y^2}\\right) $$ \n",
    "\n",
    "we see that this time it's the term $\\psi_{j-1}$ that's not in the domain. Thus, by using a 3rd order discretization (but this time a forward difference scheme) of $\\frac{\\partial \\psi}{\\partial y}$ on the bottom edge it gives :\n",
    "\n",
    "$$\\frac{\\partial \\psi}{\\partial y}=\\frac{-\\psi_{j+2}+6\\psi_{j+1}-3\\psi_j-2\\psi_{j-1}}{6\\Delta y}=u_j$$\n",
    "\n",
    "\n",
    "Using the fact that at the bottom boundary, $u_j=\\psi_j=0$, isolating $\\psi_{j-1}$ and inserting it's expression in the 2nd order discretization of $\\omega_j$,\n",
    "\n",
    "we get for the bottom boundary ( x , y = 0 ) :\n",
    "\n",
    "\\begin{equation}\\omega_{i,j} = -\\frac{1}{2 \\Delta y^2} (8\\psi_{i, j+1} - \\psi_{i, j+2})\n",
    "\\end{equation}\n",
    "\n",
    "As for the right boundary ( x = max , y ) :\n",
    "\n",
    "\\begin{equation}\\omega_{i,j} = -\\frac{1}{2 \\Delta y^2} (8\\psi_{i-1, j} - \\psi_{i-2, j})\n",
    "\\end{equation}\n",
    "\n",
    "and the the left one ( x = 0 , y ) :\n",
    "\n",
    "\\begin{equation}\\omega_{i,j} = -\\frac{1}{2 \\Delta y^2} (8\\psi_{i+1, j} - \\psi_{i+2, j})\n",
    "\\end{equation}"
   ]
  },
  {
   "cell_type": "markdown",
   "metadata": {},
   "source": [
    "In Python syntax, it looks like :\n",
    "\n",
    "            w[-1, :] = (-1/(2*dy**2))*(8*p[-2, :] - p[-3, :]) - 3/dy        # We set u=1 and neglected O(dy^2)\n",
    "            w[0, :]  = (-1/(2*dy**2))*(8*p[1, :] - p[2, :])                 # Bottom boundary condition\n",
    "            w[:, 0]  = (-1/(2*dx**2))*(8*p[:, 1] - p[:, 2])                 # Right boundary condition\n",
    "            w[:, -1] = (-1/(2*dx**2))*(8*p[:, -2] - p[:, -3])               # Left boundary condition\n",
    "        "
   ]
  },
  {
   "cell_type": "markdown",
   "metadata": {},
   "source": [
    "Where we used the convention   $p_{i,j}$ = p [ j , i ]  again. It will be of course used in the whole assignment."
   ]
  },
  {
   "cell_type": "markdown",
   "metadata": {},
   "source": [
    "## The assignment"
   ]
  },
  {
   "cell_type": "markdown",
   "metadata": {},
   "source": [
    "* #### Importing libraries\n",
    "\n",
    "We will use Numba as shown in the third lesson of Module 5. \n",
    "It is not absolutely necessary but we want to give it a try."
   ]
  },
  {
   "cell_type": "code",
   "execution_count": 1,
   "metadata": {
    "collapsed": true
   },
   "outputs": [],
   "source": [
    "import numpy\n",
    "import numba\n",
    "from numba import jit\n",
    "from matplotlib import pyplot, cm\n",
    "%matplotlib inline"
   ]
  },
  {
   "cell_type": "markdown",
   "metadata": {},
   "source": [
    "* **Initial conditions**"
   ]
  },
  {
   "cell_type": "markdown",
   "metadata": {},
   "source": [
    "The following parameters were given in the presentation of the assignment."
   ]
  },
  {
   "cell_type": "code",
   "execution_count": 2,
   "metadata": {
    "collapsed": false
   },
   "outputs": [],
   "source": [
    "nx = 41\n",
    "ny = 41\n",
    "\n",
    "l = 1.\n",
    "h = 1.\n",
    "\n",
    "dx = l/(nx-1)\n",
    "dy = h/(ny-1)\n",
    "\n",
    "l1_target = 1e-6"
   ]
  },
  {
   "cell_type": "markdown",
   "metadata": {},
   "source": [
    "As well as this function which will help us to compute the L1 norm between successive iterations :"
   ]
  },
  {
   "cell_type": "code",
   "execution_count": 3,
   "metadata": {
    "collapsed": true
   },
   "outputs": [],
   "source": [
    "def L1norm(new, old):\n",
    "    norm = numpy.sum(numpy.abs(new-old))\n",
    "    return norm"
   ]
  },
  {
   "cell_type": "markdown",
   "metadata": {},
   "source": [
    "Now we need to set the initial arrays in which our values for $\\psi_{i,j}^{k}$ and $\\omega_{i,j}^{k}$ will be placed, respecting conventions :"
   ]
  },
  {
   "cell_type": "code",
   "execution_count": 4,
   "metadata": {
    "collapsed": false
   },
   "outputs": [],
   "source": [
    "psi_solve = numpy.zeros((ny, nx))   \n",
    "w_solve = numpy.zeros((ny, nx))"
   ]
  },
  {
   "cell_type": "markdown",
   "metadata": {},
   "source": [
    "We used *numpy.zeros* to set all the values of the arrays to zero."
   ]
  },
  {
   "cell_type": "markdown",
   "metadata": {},
   "source": [
    "* **A function to solve the coupled equations**"
   ]
  },
  {
   "cell_type": "markdown",
   "metadata": {},
   "source": [
    "We've already seen how the equations look like in Python syntax, so what we need now is to loop them together into a function that will be used to solve our problem.\n",
    "\n",
    "Note that we used the \"if i > 5000\" statement to be able to see if our L1norm function would converger or not. \n",
    "\n",
    "After having found the right results and the number of iterations used during the impletation, we changed it to 5000 and kept it here just in case."
   ]
  },
  {
   "cell_type": "code",
   "execution_count": 5,
   "metadata": {
    "collapsed": false
   },
   "outputs": [],
   "source": [
    "@jit\n",
    "def coupled_equations_solver(psi_solve, w_solve, dx, dy, L1norm, l1target, i):\n",
    "    \n",
    "    # We set the norms initially to 1, as seen in the notebooks\n",
    "    L1normpsi = 1\n",
    "    L1normw = 1\n",
    "    \n",
    "    i=0  # We will use this to count the iterations\n",
    "    \n",
    "    p = psi_solve.copy()\n",
    "    w = w_solve.copy()\n",
    "\n",
    "\n",
    "    while ((l1_target < L1normw) or (l1_target < L1normpsi)) :\n",
    "        \n",
    "    \n",
    "        if i > 5000 :   \n",
    "            \n",
    "            break                    \n",
    "            print('Too many iterations, something wrong with the code !')  \n",
    "            \n",
    "        else :\n",
    "        \n",
    "            # First of all, setting the newly obtained arrays after the first iteration\n",
    "        \n",
    "            wk = w.copy()\n",
    "            pk = p.copy()\n",
    "        \n",
    "        \n",
    "            # Boundary conditions\n",
    "        \n",
    "        \n",
    "            w[-1, :] = (-1/(2*dy**2))*(8*p[-2, :] - p[-3, :]) - 3/dy        # We set u=1 and neglected O(dy^2)\n",
    "        \n",
    "            w[0, :]  = (-1/(2*dy**2))*(8*p[1, :] - p[2, :])                 # Bottom boundary condition\n",
    "        \n",
    "            w[:, 0]  = (-1/(2*dx**2))*(8*p[:, 1] - p[:, 2])                 # Right boundary condition\n",
    "        \n",
    "            w[:, -1] = (-1/(2*dx**2))*(8*p[:, -2] - p[:, -3])               # Left boundary condition\n",
    "\n",
    "\n",
    "        \n",
    "            # Laplace equation\n",
    "        \n",
    "            w[1:-1,1:-1] = .25 * (wk[1:-1,2:] + wk[1:-1, :-2] + wk[2:, 1:-1] + wk[:-2, 1:-1])  \n",
    "\n",
    "        \n",
    "        \n",
    "            # Poisson equation\n",
    "       \n",
    "            p[1:-1,1:-1] = 1/(2*(dx**2 + dy**2)) * (   (pk[1:-1,2:]+pk[1:-1,:-2])*dy**2 + \\\n",
    "                                                         (pk[2:,1:-1] + pk[:-2,1:-1])*dx**2 + \\\n",
    "                                                                        w[1:-1,1:-1]*dx**2*dy**2   )\n",
    "        \n",
    "            # Now, we need to save the value of the L1 norm so the loop can stop at a moment\n",
    "        \n",
    "            L1normw = L1norm(w, wk)      # w = new  and wk = old\n",
    "            L1normpsi = L1norm(p, pk)    # p = new  and pk = old\n",
    "        \n",
    "            i = i + 1\n",
    "        \n",
    "    \n",
    "    \n",
    "    return p, w, i"
   ]
  },
  {
   "cell_type": "markdown",
   "metadata": {},
   "source": [
    "* **Now let's solve the problem**"
   ]
  },
  {
   "cell_type": "code",
   "execution_count": 6,
   "metadata": {
    "collapsed": false
   },
   "outputs": [
    {
     "name": "stdout",
     "output_type": "stream",
     "text": [
      "\n",
      " Number of iterations :  4060 \n",
      "\n",
      "\n",
      " \n",
      " ------------ Values of psi_solve -----------------\n",
      " \n",
      "  [[  0.00000000e+00   0.00000000e+00   0.00000000e+00 ...,   0.00000000e+00\n",
      "    0.00000000e+00   0.00000000e+00]\n",
      " [  0.00000000e+00   1.41429633e-06   2.17360371e-06 ...,   2.17360371e-06\n",
      "    1.41429633e-06   0.00000000e+00]\n",
      " [  0.00000000e+00   2.20482439e-06   1.45898816e-07 ...,   1.45898816e-07\n",
      "    2.20482439e-06   0.00000000e+00]\n",
      " ..., \n",
      " [  0.00000000e+00  -6.35061518e-03  -1.52288240e-02 ...,  -1.52288240e-02\n",
      "   -6.35061518e-03   0.00000000e+00]\n",
      " [  0.00000000e+00  -7.32622358e-03  -1.33638594e-02 ...,  -1.33638594e-02\n",
      "   -7.32622358e-03   0.00000000e+00]\n",
      " [  0.00000000e+00   0.00000000e+00   0.00000000e+00 ...,   0.00000000e+00\n",
      "    0.00000000e+00   0.00000000e+00]]\n",
      "\n",
      " \n",
      " ------------ Values of w_solve -----------------\n",
      " \n",
      "  [[ -0.00000000e+00  -7.28763699e-03  -1.37943448e-02 ...,  -1.37943448e-02\n",
      "   -7.28763699e-03  -0.00000000e+00]\n",
      " [ -7.31261353e-03   2.04601149e-03   1.14128837e-02 ...,   1.14128837e-02\n",
      "    2.04601149e-03  -7.31261353e-03]\n",
      " [ -1.39941571e-02   1.13714128e-02   3.23148136e-02 ...,   3.23148136e-02\n",
      "    1.13714128e-02  -1.39941571e-02]\n",
      " ..., \n",
      " [  2.84608780e+01   3.17800898e+00  -7.89273450e+00 ...,  -7.89273450e+00\n",
      "    3.17800898e+00   2.84608780e+01]\n",
      " [  3.61967434e+01  -1.53446715e+01  -2.25607772e+01 ...,  -2.25607772e+01\n",
      "   -1.53446715e+01   3.61967434e+01]\n",
      " [ -0.00000000e+00  -7.81926612e+01  -4.66543587e+01 ...,  -4.66543587e+01\n",
      "   -7.81926612e+01  -0.00000000e+00]] \n",
      " \n",
      "\n"
     ]
    }
   ],
   "source": [
    "i=0\n",
    "\n",
    "psi_solve, w_solve, i = coupled_equations_solver(psi_solve, w_solve, dx, dy, L1norm, l1_target, i)\n",
    "\n",
    "# Showing how many iterations have been necessary\n",
    "\n",
    "print('\\n Number of iterations : ', i ,'\\n')   \n",
    "\n",
    "# Just to check how it looks, we print the resulting arrays\n",
    "\n",
    "print('\\n \\n ------------ Values of psi_solve -----------------\\n \\n ', psi_solve )\n",
    "\n",
    "print('\\n \\n ------------ Values of w_solve -----------------\\n \\n ', w_solve,  '\\n \\n')\n"
   ]
  },
  {
   "cell_type": "markdown",
   "metadata": {},
   "source": [
    " * **How long did it take ?**"
   ]
  },
  {
   "cell_type": "code",
   "execution_count": 12,
   "metadata": {
    "collapsed": false,
    "scrolled": true
   },
   "outputs": [
    {
     "name": "stdout",
     "output_type": "stream",
     "text": [
      "10000 loops, best of 3: 187 µs per loop\n"
     ]
    }
   ],
   "source": [
    "%%timeit\n",
    "coupled_equations_solver(psi_solve, w_solve, dx, dy, L1norm, l1_target,i)"
   ]
  },
  {
   "cell_type": "markdown",
   "metadata": {},
   "source": [
    "We wanted to see what Numba was capable of, so we tried a few times to restart the kernel and run it without using Numba (wihtout '@jit' at the beginning of 'coupled_equations_solver').\n",
    "\n",
    "So using a 2,2 GHz Intel Core i7 Macbook Pro with 8Gb ram, we got 188µs per loop with Numba, and 156µs per loop without Numba. \n",
    "\n",
    "Well, either we failed miserably at using numba, or it must be the black magic lessons 3 talked about."
   ]
  },
  {
   "cell_type": "markdown",
   "metadata": {},
   "source": [
    "* **What does it look like with pyplot ?**"
   ]
  },
  {
   "cell_type": "markdown",
   "metadata": {},
   "source": [
    "At last, we will be able to see our results with the viridis colormap !"
   ]
  },
  {
   "cell_type": "code",
   "execution_count": 8,
   "metadata": {
    "collapsed": false
   },
   "outputs": [
    {
     "data": {
      "image/png": "[encoded data removed]",
      "text/plain": [
       "<matplotlib.figure.Figure at 0x112cbcf60>"
      ]
     },
     "metadata": {},
     "output_type": "display_data"
    }
   ],
   "source": [
    "# Plotting axes\n",
    "\n",
    "x = numpy.linspace(0,1,nx)\n",
    "y = numpy.linspace(0,1,ny)\n",
    "\n",
    "# Drawing the plot\n",
    "pyplot.figure(figsize=(12,10))\n",
    "pyplot.contourf(x,y,psi_solve,15,cmap=cm.viridis)\n",
    "pyplot.xlabel('$X$ \\n\\n Final result ')\n",
    "pyplot.ylabel('$Y$')\n",
    "pyplot.colorbar();\n"
   ]
  },
  {
   "cell_type": "markdown",
   "metadata": {},
   "source": [
    "It does indeed look as expected."
   ]
  },
  {
   "cell_type": "markdown",
   "metadata": {},
   "source": [
    "## Answering the questions asked\n",
    "\n"
   ]
  },
  {
   "cell_type": "markdown",
   "metadata": {},
   "source": [
    "\n",
    "* **Maximum value of $ |\\psi |$ after relaxation to the specified criteria**"
   ]
  },
  {
   "cell_type": "code",
   "execution_count": 9,
   "metadata": {
    "collapsed": false,
    "scrolled": true
   },
   "outputs": [
    {
     "name": "stdout",
     "output_type": "stream",
     "text": [
      "\n",
      " max of |psi_solve| =  0.0998451724383 \n",
      "\n"
     ]
    }
   ],
   "source": [
    "print('\\n max of |psi_solve| = ', numpy.amax(numpy.abs(psi_solve)) , '\\n')"
   ]
  },
  {
   "cell_type": "markdown",
   "metadata": {},
   "source": [
    "*  **Maximum value of $|\\omega |$ after relaxation to the specified criteria**"
   ]
  },
  {
   "cell_type": "code",
   "execution_count": 10,
   "metadata": {
    "collapsed": false
   },
   "outputs": [
    {
     "name": "stdout",
     "output_type": "stream",
     "text": [
      " \n",
      "  max of |w_solve| =  78.1926612286  \n",
      "\n"
     ]
    }
   ],
   "source": [
    "print(' \\n  max of |w_solve| = ', numpy.amax(numpy.abs(w_solve)) , ' \\n')"
   ]
  },
  {
   "cell_type": "markdown",
   "metadata": {},
   "source": [
    "* **Running**   *** numpy.round( psi[ 32 , ::8 ] , 4 )*** "
   ]
  },
  {
   "cell_type": "code",
   "execution_count": 11,
   "metadata": {
    "collapsed": false
   },
   "outputs": [
    {
     "name": "stdout",
     "output_type": "stream",
     "text": [
      " \n",
      " Result :  [ 0.     -0.0575 -0.0944 -0.0944 -0.0575  0.    ]\n"
     ]
    }
   ],
   "source": [
    "print(' \\n Result : ',numpy.round(psi_solve[32,::8], 4))"
   ]
  },
  {
   "cell_type": "markdown",
   "metadata": {},
   "source": [
    "The values shown below are correct according to the graded assesment page, looks like we got it right !\n",
    "    \n",
    "    \n",
    "        "
   ]
  },
  {
   "cell_type": "markdown",
   "metadata": {},
   "source": [
    "# Conclusion"
   ]
  },
  {
   "cell_type": "markdown",
   "metadata": {},
   "source": [
    "The Jacobi method seems to work well to solve the Stokes flow ! \n",
    "\n",
    "Though, if the same Stokes flows were to be resolved in a more complicated geometric space, or if the problem to solve was harder, maybe other iterative methods such as Gauss-seidel or successive-over relaxation would have been be more efficient. In these cases, comparing the results with and without using Numba would have been a very intersting challenge. "
   ]
  },
  {
   "cell_type": "code",
   "execution_count": null,
   "metadata": {
    "collapsed": true
   },
   "outputs": [],
   "source": []
  }
 ],
 "metadata": {
  "kernelspec": {
   "display_name": "Python 3",
   "language": "python",
   "name": "python3"
  },
  "language_info": {
   "codemirror_mode": {
    "name": "ipython",
    "version": 3
   },
   "file_extension": ".py",
   "mimetype": "text/x-python",
   "name": "python",
   "nbconvert_exporter": "python",
   "pygments_lexer": "ipython3",
   "version": "3.4.4"
  }
 },
 "nbformat": 4,
 "nbformat_minor": 0
}
